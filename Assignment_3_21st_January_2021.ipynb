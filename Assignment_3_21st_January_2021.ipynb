{
 "cells": [
  {
   "cell_type": "markdown",
   "metadata": {},
   "source": [
    "# Question 1\n",
    "Write a Python program to merge two files into a third file."
   ]
  },
  {
   "cell_type": "code",
   "execution_count": 4,
   "metadata": {},
   "outputs": [],
   "source": [
    "\n",
    "# Python program to \n",
    "# demonstrate merging of \n",
    "# two files \n",
    "  \n",
    "# Creating a list of filenames \n",
    "filenames = ['file1.txt', 'file2.txt'] \n",
    "  \n",
    "# Open file3 in write mode \n",
    "with open('file3.txt', 'w') as outfile: \n",
    "  \n",
    "    # Iterate through list \n",
    "    for names in filenames: \n",
    "  \n",
    "        # Open each file in read mode \n",
    "        with open(names) as infile: \n",
    "  \n",
    "            # read the data from file1 and \n",
    "            # file2 and write it in file3 \n",
    "            outfile.write(infile.read()) \n",
    "  \n",
    "        # Add '\\n' to enter data of file2 \n",
    "        # from next line \n",
    "        outfile.write(\"\\n\") \n",
    "\n"
   ]
  },
  {
   "cell_type": "markdown",
   "metadata": {},
   "source": [
    "# Question 2\n",
    "Take two lists as input list1 = [1,2,3,4,5] and list2 = [\"a\", \"b\", \"c\", \"d\", \"e\"] From that make a\n",
    "dictionary ouput {1:\"a\", 2:\"b\", 3:\"c\", 4:\"d\", 5:\"e\"}"
   ]
  },
  {
   "cell_type": "code",
   "execution_count": 5,
   "metadata": {},
   "outputs": [
    {
     "name": "stdout",
     "output_type": "stream",
     "text": [
      "{1: 'a', 2: 'b', 3: 'c', 4: 'd', 5: 'e'}\n"
     ]
    }
   ],
   "source": [
    "list1=[1,2,3,4,5]\n",
    "list2 = ['a', 'b', 'c','d','e']\n",
    "dictionary = dict(zip(list1, list2))\n",
    "print(dictionary)"
   ]
  },
  {
   "cell_type": "code",
   "execution_count": null,
   "metadata": {},
   "outputs": [],
   "source": []
  }
 ],
 "metadata": {
  "kernelspec": {
   "display_name": "Python 3",
   "language": "python",
   "name": "python3"
  },
  "language_info": {
   "codemirror_mode": {
    "name": "ipython",
    "version": 3
   },
   "file_extension": ".py",
   "mimetype": "text/x-python",
   "name": "python",
   "nbconvert_exporter": "python",
   "pygments_lexer": "ipython3",
   "version": "3.8.5"
  }
 },
 "nbformat": 4,
 "nbformat_minor": 4
}
